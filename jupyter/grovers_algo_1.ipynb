{
 "cells": [
  {
   "cell_type": "code",
   "execution_count": 6,
   "id": "213c30e5-1350-43b2-85c5-1fcb8e9ab4b5",
   "metadata": {},
   "outputs": [],
   "source": [
    "# https://learn.qiskit.org/course/introduction/grovers-search-algorithm"
   ]
  },
  {
   "cell_type": "code",
   "execution_count": 11,
   "id": "451d9151-9e6c-44be-af76-945c80c39957",
   "metadata": {},
   "outputs": [
    {
     "name": "stdout",
     "output_type": "stream",
     "text": [
      "c example DIMACS-CNF 3-SAT\n",
      "p cnf 3 5\n",
      "-1 -2 -3 0\n",
      "1 -2 3 0\n",
      "1 2 -3 0\n",
      "1 -2 -3 0\n",
      "-1 2 3 0\n"
     ]
    }
   ],
   "source": [
    "path = 'assets/3sat.dimacs'\n",
    "with open(path, 'r', encoding='utf8') as f:\n",
    "    dimacs = f.read()\n",
    "print(dimacs)  # let's check the file is as promised"
   ]
  },
  {
   "cell_type": "code",
   "execution_count": 12,
   "id": "335f5718-34ee-42ca-a1cd-3ca2a0c18387",
   "metadata": {},
   "outputs": [
    {
     "name": "stdout",
     "output_type": "stream",
     "text": [
      "Collecting tweedledum\n",
      "  Downloading tweedledum-1.1.1-cp310-cp310-macosx_10_15_x86_64.whl (961 kB)\n",
      "\u001b[2K     \u001b[38;2;114;156;31m━━━━━━━━━━━━━━━━━━━━━━━━━━━━━━━━━━━━━━━\u001b[0m \u001b[32m961.8/961.8 kB\u001b[0m \u001b[31m9.5 MB/s\u001b[0m eta \u001b[36m0:00:00\u001b[0mm eta \u001b[36m0:00:01\u001b[0m[36m0:00:01\u001b[0m\n",
      "\u001b[?25hInstalling collected packages: tweedledum\n",
      "Successfully installed tweedledum-1.1.1\n"
     ]
    }
   ],
   "source": [
    "# NOTE: python3.11+ does not work: 2023-09-29\n",
    "!pip install tweedledum"
   ]
  },
  {
   "cell_type": "code",
   "execution_count": 2,
   "id": "f2c5aee4-a546-4f21-9ca4-7b3f48615c53",
   "metadata": {},
   "outputs": [
    {
     "data": {
      "text/html": [
       "<pre style=\"word-wrap: normal;white-space: pre;background: #fff0;line-height: 1.1;font-family: &quot;Courier New&quot;,Courier,monospace\">                          \n",
       "q_0: ─o────────────o──────\n",
       "      │ ┌───┐┌───┐ │ ┌───┐\n",
       "q_1: ─■─┤ Z ├┤ X ├─■─┤ X ├\n",
       "      │ ├───┤└───┘   └───┘\n",
       "q_2: ─o─┤ Z ├─────────────\n",
       "        └───┘             </pre>"
      ],
      "text/plain": [
       "                          \n",
       "q_0: ─o────────────o──────\n",
       "      │ ┌───┐┌───┐ │ ┌───┐\n",
       "q_1: ─■─┤ Z ├┤ X ├─■─┤ X ├\n",
       "      │ ├───┤└───┘   └───┘\n",
       "q_2: ─o─┤ Z ├─────────────\n",
       "        └───┘             "
      ]
     },
     "execution_count": 2,
     "metadata": {},
     "output_type": "execute_result"
    }
   ],
   "source": [
    "from qiskit.circuit.library import PhaseOracle\n",
    "oracle = PhaseOracle.from_dimacs_file('assets/3sat.dimacs')\n",
    "oracle.draw()"
   ]
  },
  {
   "cell_type": "code",
   "execution_count": 3,
   "id": "54fcd471-ae79-4fcf-bb7c-755650e767a2",
   "metadata": {},
   "outputs": [
    {
     "data": {
      "text/html": [
       "<pre style=\"word-wrap: normal;white-space: pre;background: #fff0;line-height: 1.1;font-family: &quot;Courier New&quot;,Courier,monospace\">     ┌───┐\n",
       "q_0: ┤ H ├\n",
       "     ├───┤\n",
       "q_1: ┤ H ├\n",
       "     ├───┤\n",
       "q_2: ┤ H ├\n",
       "     └───┘</pre>"
      ],
      "text/plain": [
       "     ┌───┐\n",
       "q_0: ┤ H ├\n",
       "     ├───┤\n",
       "q_1: ┤ H ├\n",
       "     ├───┤\n",
       "q_2: ┤ H ├\n",
       "     └───┘"
      ]
     },
     "execution_count": 3,
     "metadata": {},
     "output_type": "execute_result"
    }
   ],
   "source": [
    "from qiskit import QuantumCircuit\n",
    "init = QuantumCircuit(3)\n",
    "init.h([0,1,2])\n",
    "init.draw()"
   ]
  },
  {
   "cell_type": "code",
   "execution_count": 4,
   "id": "75a687ac-afd8-4404-965e-70950b07fd1a",
   "metadata": {},
   "outputs": [],
   "source": [
    "# steps 2 & 3 of Grover's algorithm\n",
    "# step2: oracle-circuit\n",
    "# step3: diffuser\n",
    "\n",
    "from qiskit.circuit.library import GroverOperator\n",
    "grover_operator = GroverOperator(oracle)"
   ]
  },
  {
   "cell_type": "code",
   "execution_count": 5,
   "id": "ce8e998e-6b20-4d9c-9c96-8eb65cca7f32",
   "metadata": {},
   "outputs": [
    {
     "data": {
      "text/html": [
       "<pre style=\"word-wrap: normal;white-space: pre;background: #fff0;line-height: 1.1;font-family: &quot;Courier New&quot;,Courier,monospace\">        ┌───┐┌────┐ ░ ┌─┐      \n",
       "   q_0: ┤ H ├┤0   ├─░─┤M├──────\n",
       "        ├───┤│    │ ░ └╥┘┌─┐   \n",
       "   q_1: ┤ H ├┤1 Q ├─░──╫─┤M├───\n",
       "        ├───┤│    │ ░  ║ └╥┘┌─┐\n",
       "   q_2: ┤ H ├┤2   ├─░──╫──╫─┤M├\n",
       "        └───┘└────┘ ░  ║  ║ └╥┘\n",
       "meas: 3/═══════════════╩══╩══╩═\n",
       "                       0  1  2 </pre>"
      ],
      "text/plain": [
       "        ┌───┐┌────┐ ░ ┌─┐      \n",
       "   q_0: ┤ H ├┤0   ├─░─┤M├──────\n",
       "        ├───┤│    │ ░ └╥┘┌─┐   \n",
       "   q_1: ┤ H ├┤1 Q ├─░──╫─┤M├───\n",
       "        ├───┤│    │ ░  ║ └╥┘┌─┐\n",
       "   q_2: ┤ H ├┤2   ├─░──╫──╫─┤M├\n",
       "        └───┘└────┘ ░  ║  ║ └╥┘\n",
       "meas: 3/═══════════════╩══╩══╩═\n",
       "                       0  1  2 "
      ]
     },
     "execution_count": 5,
     "metadata": {},
     "output_type": "execute_result"
    }
   ],
   "source": [
    "qc = init.compose(grover_operator)\n",
    "qc.measure_all()\n",
    "qc.draw()"
   ]
  },
  {
   "cell_type": "code",
   "execution_count": 7,
   "id": "a0ea7f87-db4c-466b-ab33-8ccf85d7b126",
   "metadata": {},
   "outputs": [
    {
     "data": {
      "image/png": "[encoded data removed]",
      "text/plain": [
       "<Figure size 700x500 with 1 Axes>"
      ]
     },
     "execution_count": 7,
     "metadata": {},
     "output_type": "execute_result"
    }
   ],
   "source": [
    "# Simulate the circuit\n",
    "from qiskit import Aer, transpile\n",
    "sim = Aer.get_backend('aer_simulator')\n",
    "t_qc = transpile(qc, sim)\n",
    "counts = sim.run(t_qc).result().get_counts()\n",
    "\n",
    "# plot the results\n",
    "from qiskit.visualization import plot_histogram\n",
    "plot_histogram(counts)"
   ]
  }
 ],
 "metadata": {
  "kernelspec": {
   "display_name": "Python 3 (ipykernel)",
   "language": "python",
   "name": "python3"
  },
  "language_info": {
   "codemirror_mode": {
    "name": "ipython",
    "version": 3
   },
   "file_extension": ".py",
   "mimetype": "text/x-python",
   "name": "python",
   "nbconvert_exporter": "python",
   "pygments_lexer": "ipython3",
   "version": "3.10.13"
  }
 },
 "nbformat": 4,
 "nbformat_minor": 5
}
