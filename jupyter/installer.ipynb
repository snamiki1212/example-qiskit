{
 "cells": [
  {
   "cell_type": "code",
   "execution_count": 1,
   "id": "4ca27be3-35e1-49d3-ae5e-a42d22387548",
   "metadata": {},
   "outputs": [
    {
     "name": "stdout",
     "output_type": "stream",
     "text": [
      "Requirement already satisfied: qiskit in ./venv/lib/python3.11/site-packages (0.44.1)\n",
      "Requirement already satisfied: qiskit-terra==0.25.1 in ./venv/lib/python3.11/site-packages (from qiskit) (0.25.1)\n",
      "Requirement already satisfied: rustworkx>=0.13.0 in ./venv/lib/python3.11/site-packages (from qiskit-terra==0.25.1->qiskit) (0.13.1)\n",
      "Requirement already satisfied: numpy>=1.17 in ./venv/lib/python3.11/site-packages (from qiskit-terra==0.25.1->qiskit) (1.26.0)\n",
      "Requirement already satisfied: ply>=3.10 in ./venv/lib/python3.11/site-packages (from qiskit-terra==0.25.1->qiskit) (3.11)\n",
      "Requirement already satisfied: psutil>=5 in ./venv/lib/python3.11/site-packages (from qiskit-terra==0.25.1->qiskit) (5.9.5)\n",
      "Requirement already satisfied: scipy>=1.5 in ./venv/lib/python3.11/site-packages (from qiskit-terra==0.25.1->qiskit) (1.11.2)\n",
      "Requirement already satisfied: sympy>=1.3 in ./venv/lib/python3.11/site-packages (from qiskit-terra==0.25.1->qiskit) (1.12)\n",
      "Requirement already satisfied: dill>=0.3 in ./venv/lib/python3.11/site-packages (from qiskit-terra==0.25.1->qiskit) (0.3.7)\n",
      "Requirement already satisfied: python-dateutil>=2.8.0 in ./venv/lib/python3.11/site-packages (from qiskit-terra==0.25.1->qiskit) (2.8.2)\n",
      "Requirement already satisfied: stevedore>=3.0.0 in ./venv/lib/python3.11/site-packages (from qiskit-terra==0.25.1->qiskit) (5.1.0)\n",
      "Requirement already satisfied: symengine<0.10,>=0.9 in ./venv/lib/python3.11/site-packages (from qiskit-terra==0.25.1->qiskit) (0.9.2)\n",
      "Requirement already satisfied: six>=1.5 in ./venv/lib/python3.11/site-packages (from python-dateutil>=2.8.0->qiskit-terra==0.25.1->qiskit) (1.16.0)\n",
      "Requirement already satisfied: pbr!=2.1.0,>=2.0.0 in ./venv/lib/python3.11/site-packages (from stevedore>=3.0.0->qiskit-terra==0.25.1->qiskit) (5.11.1)\n",
      "Requirement already satisfied: mpmath>=0.19 in ./venv/lib/python3.11/site-packages (from sympy>=1.3->qiskit-terra==0.25.1->qiskit) (1.3.0)\n",
      "Requirement already satisfied: qiskit[visualization] in ./venv/lib/python3.11/site-packages (0.44.1)\n",
      "Requirement already satisfied: qiskit-terra==0.25.1 in ./venv/lib/python3.11/site-packages (from qiskit[visualization]) (0.25.1)\n",
      "Requirement already satisfied: rustworkx>=0.13.0 in ./venv/lib/python3.11/site-packages (from qiskit-terra==0.25.1->qiskit[visualization]) (0.13.1)\n",
      "Requirement already satisfied: numpy>=1.17 in ./venv/lib/python3.11/site-packages (from qiskit-terra==0.25.1->qiskit[visualization]) (1.26.0)\n",
      "Requirement already satisfied: ply>=3.10 in ./venv/lib/python3.11/site-packages (from qiskit-terra==0.25.1->qiskit[visualization]) (3.11)\n",
      "Requirement already satisfied: psutil>=5 in ./venv/lib/python3.11/site-packages (from qiskit-terra==0.25.1->qiskit[visualization]) (5.9.5)\n",
      "Requirement already satisfied: scipy>=1.5 in ./venv/lib/python3.11/site-packages (from qiskit-terra==0.25.1->qiskit[visualization]) (1.11.2)\n",
      "Requirement already satisfied: sympy>=1.3 in ./venv/lib/python3.11/site-packages (from qiskit-terra==0.25.1->qiskit[visualization]) (1.12)\n",
      "Requirement already satisfied: dill>=0.3 in ./venv/lib/python3.11/site-packages (from qiskit-terra==0.25.1->qiskit[visualization]) (0.3.7)\n",
      "Requirement already satisfied: python-dateutil>=2.8.0 in ./venv/lib/python3.11/site-packages (from qiskit-terra==0.25.1->qiskit[visualization]) (2.8.2)\n",
      "Requirement already satisfied: stevedore>=3.0.0 in ./venv/lib/python3.11/site-packages (from qiskit-terra==0.25.1->qiskit[visualization]) (5.1.0)\n",
      "Requirement already satisfied: symengine<0.10,>=0.9 in ./venv/lib/python3.11/site-packages (from qiskit-terra==0.25.1->qiskit[visualization]) (0.9.2)\n",
      "Requirement already satisfied: matplotlib>=3.3 in ./venv/lib/python3.11/site-packages (from qiskit-terra==0.25.1->qiskit[visualization]) (3.8.0)\n",
      "Requirement already satisfied: ipywidgets>=7.3.0 in ./venv/lib/python3.11/site-packages (from qiskit-terra==0.25.1->qiskit[visualization]) (8.1.1)\n",
      "Requirement already satisfied: pydot in ./venv/lib/python3.11/site-packages (from qiskit-terra==0.25.1->qiskit[visualization]) (1.4.2)\n",
      "Requirement already satisfied: pillow>=4.2.1 in ./venv/lib/python3.11/site-packages (from qiskit-terra==0.25.1->qiskit[visualization]) (10.0.1)\n",
      "Requirement already satisfied: pylatexenc>=1.4 in ./venv/lib/python3.11/site-packages (from qiskit-terra==0.25.1->qiskit[visualization]) (2.10)\n",
      "Requirement already satisfied: seaborn>=0.9.0 in ./venv/lib/python3.11/site-packages (from qiskit-terra==0.25.1->qiskit[visualization]) (0.12.2)\n",
      "Requirement already satisfied: pygments>=2.4 in ./venv/lib/python3.11/site-packages (from qiskit-terra==0.25.1->qiskit[visualization]) (2.16.1)\n",
      "Requirement already satisfied: comm>=0.1.3 in ./venv/lib/python3.11/site-packages (from ipywidgets>=7.3.0->qiskit-terra==0.25.1->qiskit[visualization]) (0.1.4)\n",
      "Requirement already satisfied: ipython>=6.1.0 in ./venv/lib/python3.11/site-packages (from ipywidgets>=7.3.0->qiskit-terra==0.25.1->qiskit[visualization]) (8.15.0)\n",
      "Requirement already satisfied: traitlets>=4.3.1 in ./venv/lib/python3.11/site-packages (from ipywidgets>=7.3.0->qiskit-terra==0.25.1->qiskit[visualization]) (5.10.0)\n",
      "Requirement already satisfied: widgetsnbextension~=4.0.9 in ./venv/lib/python3.11/site-packages (from ipywidgets>=7.3.0->qiskit-terra==0.25.1->qiskit[visualization]) (4.0.9)\n",
      "Requirement already satisfied: jupyterlab-widgets~=3.0.9 in ./venv/lib/python3.11/site-packages (from ipywidgets>=7.3.0->qiskit-terra==0.25.1->qiskit[visualization]) (3.0.9)\n",
      "Requirement already satisfied: contourpy>=1.0.1 in ./venv/lib/python3.11/site-packages (from matplotlib>=3.3->qiskit-terra==0.25.1->qiskit[visualization]) (1.1.1)\n",
      "Requirement already satisfied: cycler>=0.10 in ./venv/lib/python3.11/site-packages (from matplotlib>=3.3->qiskit-terra==0.25.1->qiskit[visualization]) (0.11.0)\n",
      "Requirement already satisfied: fonttools>=4.22.0 in ./venv/lib/python3.11/site-packages (from matplotlib>=3.3->qiskit-terra==0.25.1->qiskit[visualization]) (4.42.1)\n",
      "Requirement already satisfied: kiwisolver>=1.0.1 in ./venv/lib/python3.11/site-packages (from matplotlib>=3.3->qiskit-terra==0.25.1->qiskit[visualization]) (1.4.5)\n",
      "Requirement already satisfied: packaging>=20.0 in ./venv/lib/python3.11/site-packages (from matplotlib>=3.3->qiskit-terra==0.25.1->qiskit[visualization]) (23.1)\n",
      "Requirement already satisfied: pyparsing>=2.3.1 in ./venv/lib/python3.11/site-packages (from matplotlib>=3.3->qiskit-terra==0.25.1->qiskit[visualization]) (3.1.1)\n",
      "Requirement already satisfied: six>=1.5 in ./venv/lib/python3.11/site-packages (from python-dateutil>=2.8.0->qiskit-terra==0.25.1->qiskit[visualization]) (1.16.0)\n",
      "Requirement already satisfied: pandas>=0.25 in ./venv/lib/python3.11/site-packages (from seaborn>=0.9.0->qiskit-terra==0.25.1->qiskit[visualization]) (2.1.1)\n",
      "Requirement already satisfied: pbr!=2.1.0,>=2.0.0 in ./venv/lib/python3.11/site-packages (from stevedore>=3.0.0->qiskit-terra==0.25.1->qiskit[visualization]) (5.11.1)\n",
      "Requirement already satisfied: mpmath>=0.19 in ./venv/lib/python3.11/site-packages (from sympy>=1.3->qiskit-terra==0.25.1->qiskit[visualization]) (1.3.0)\n",
      "Requirement already satisfied: backcall in ./venv/lib/python3.11/site-packages (from ipython>=6.1.0->ipywidgets>=7.3.0->qiskit-terra==0.25.1->qiskit[visualization]) (0.2.0)\n",
      "Requirement already satisfied: decorator in ./venv/lib/python3.11/site-packages (from ipython>=6.1.0->ipywidgets>=7.3.0->qiskit-terra==0.25.1->qiskit[visualization]) (5.1.1)\n",
      "Requirement already satisfied: jedi>=0.16 in ./venv/lib/python3.11/site-packages (from ipython>=6.1.0->ipywidgets>=7.3.0->qiskit-terra==0.25.1->qiskit[visualization]) (0.19.0)\n",
      "Requirement already satisfied: matplotlib-inline in ./venv/lib/python3.11/site-packages (from ipython>=6.1.0->ipywidgets>=7.3.0->qiskit-terra==0.25.1->qiskit[visualization]) (0.1.6)\n",
      "Requirement already satisfied: pickleshare in ./venv/lib/python3.11/site-packages (from ipython>=6.1.0->ipywidgets>=7.3.0->qiskit-terra==0.25.1->qiskit[visualization]) (0.7.5)\n",
      "Requirement already satisfied: prompt-toolkit!=3.0.37,<3.1.0,>=3.0.30 in ./venv/lib/python3.11/site-packages (from ipython>=6.1.0->ipywidgets>=7.3.0->qiskit-terra==0.25.1->qiskit[visualization]) (3.0.39)\n",
      "Requirement already satisfied: stack-data in ./venv/lib/python3.11/site-packages (from ipython>=6.1.0->ipywidgets>=7.3.0->qiskit-terra==0.25.1->qiskit[visualization]) (0.6.2)\n",
      "Requirement already satisfied: pexpect>4.3 in ./venv/lib/python3.11/site-packages (from ipython>=6.1.0->ipywidgets>=7.3.0->qiskit-terra==0.25.1->qiskit[visualization]) (4.8.0)\n",
      "Requirement already satisfied: appnope in ./venv/lib/python3.11/site-packages (from ipython>=6.1.0->ipywidgets>=7.3.0->qiskit-terra==0.25.1->qiskit[visualization]) (0.1.3)\n",
      "Requirement already satisfied: pytz>=2020.1 in ./venv/lib/python3.11/site-packages (from pandas>=0.25->seaborn>=0.9.0->qiskit-terra==0.25.1->qiskit[visualization]) (2023.3.post1)\n",
      "Requirement already satisfied: tzdata>=2022.1 in ./venv/lib/python3.11/site-packages (from pandas>=0.25->seaborn>=0.9.0->qiskit-terra==0.25.1->qiskit[visualization]) (2023.3)\n",
      "Requirement already satisfied: parso<0.9.0,>=0.8.3 in ./venv/lib/python3.11/site-packages (from jedi>=0.16->ipython>=6.1.0->ipywidgets>=7.3.0->qiskit-terra==0.25.1->qiskit[visualization]) (0.8.3)\n",
      "Requirement already satisfied: ptyprocess>=0.5 in ./venv/lib/python3.11/site-packages (from pexpect>4.3->ipython>=6.1.0->ipywidgets>=7.3.0->qiskit-terra==0.25.1->qiskit[visualization]) (0.7.0)\n",
      "Requirement already satisfied: wcwidth in ./venv/lib/python3.11/site-packages (from prompt-toolkit!=3.0.37,<3.1.0,>=3.0.30->ipython>=6.1.0->ipywidgets>=7.3.0->qiskit-terra==0.25.1->qiskit[visualization]) (0.2.6)\n",
      "Requirement already satisfied: executing>=1.2.0 in ./venv/lib/python3.11/site-packages (from stack-data->ipython>=6.1.0->ipywidgets>=7.3.0->qiskit-terra==0.25.1->qiskit[visualization]) (1.2.0)\n",
      "Requirement already satisfied: asttokens>=2.1.0 in ./venv/lib/python3.11/site-packages (from stack-data->ipython>=6.1.0->ipywidgets>=7.3.0->qiskit-terra==0.25.1->qiskit[visualization]) (2.4.0)\n",
      "Requirement already satisfied: pure-eval in ./venv/lib/python3.11/site-packages (from stack-data->ipython>=6.1.0->ipywidgets>=7.3.0->qiskit-terra==0.25.1->qiskit[visualization]) (0.2.2)\n"
     ]
    }
   ],
   "source": [
    "!pip install qiskit\n",
    "!pip install 'qiskit[visualization]'"
   ]
  },
  {
   "cell_type": "code",
   "execution_count": null,
   "id": "4f0cf0b8-e04b-469d-8495-3917138e52bd",
   "metadata": {},
   "outputs": [],
   "source": []
  }
 ],
 "metadata": {
  "kernelspec": {
   "display_name": "Python 3 (ipykernel)",
   "language": "python",
   "name": "python3"
  },
  "language_info": {
   "codemirror_mode": {
    "name": "ipython",
    "version": 3
   },
   "file_extension": ".py",
   "mimetype": "text/x-python",
   "name": "python",
   "nbconvert_exporter": "python",
   "pygments_lexer": "ipython3",
   "version": "3.11.5"
  }
 },
 "nbformat": 4,
 "nbformat_minor": 5
}
